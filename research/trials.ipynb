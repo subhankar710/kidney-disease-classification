{
 "cells": [
  {
   "cell_type": "code",
   "execution_count": 1,
   "metadata": {},
   "outputs": [],
   "source": [
    "import gdown"
   ]
  },
  {
   "cell_type": "code",
   "execution_count": 3,
   "metadata": {},
   "outputs": [],
   "source": [
    "url = \"https://drive.google.com/file/d/1fCNZGnLvrHDQ79eG8HKnweLc9PxAIYeG/view?usp=sharing\""
   ]
  },
  {
   "cell_type": "code",
   "execution_count": 6,
   "metadata": {},
   "outputs": [],
   "source": [
    "file_id = url.split(\"/\")[-2]"
   ]
  },
  {
   "cell_type": "code",
   "execution_count": 9,
   "metadata": {},
   "outputs": [
    {
     "name": "stderr",
     "output_type": "stream",
     "text": [
      "Downloading...\n",
      "From (uriginal): https://drive.google.com/uc?/export=download&id=1fCNZGnLvrHDQ79eG8HKnweLc9PxAIYeG\n",
      "From (redirected): https://drive.google.com/uc?/export=download&id=1fCNZGnLvrHDQ79eG8HKnweLc9PxAIYeG&confirm=t&uuid=147fbd9f-4723-4c45-9457-6b78c6ce6fe7\n",
      "To: c:\\Users\\subha\\Desktop\\Kidney Classification\\kidney-disease-classification\\research\\kidney-CT-scan.zip\n",
      "100%|██████████| 942M/942M [00:54<00:00, 17.3MB/s] \n"
     ]
    },
    {
     "data": {
      "text/plain": [
       "'kidney-CT-scan.zip'"
      ]
     },
     "execution_count": 9,
     "metadata": {},
     "output_type": "execute_result"
    }
   ],
   "source": [
    "prefix = 'https://drive.google.com/uc?/export=download&id='\n",
    "gdown.download(prefix + file_id, 'kidney-CT-scan.zip')"
   ]
  }
 ],
 "metadata": {
  "kernelspec": {
   "display_name": "kidney",
   "language": "python",
   "name": "python3"
  },
  "language_info": {
   "codemirror_mode": {
    "name": "ipython",
    "version": 3
   },
   "file_extension": ".py",
   "mimetype": "text/x-python",
   "name": "python",
   "nbconvert_exporter": "python",
   "pygments_lexer": "ipython3",
   "version": "3.8.18"
  }
 },
 "nbformat": 4,
 "nbformat_minor": 2
}
